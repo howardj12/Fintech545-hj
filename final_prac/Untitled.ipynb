{
 "cells": [
  {
   "cell_type": "markdown",
   "id": "7bd22707-b0a6-4746-9373-148711821469",
   "metadata": {},
   "source": [
    "## Final Spring 23"
   ]
  },
  {
   "cell_type": "markdown",
   "id": "60eaf775-4306-4760-a01e-0c887c09764c",
   "metadata": {},
   "source": [
    "## Q1"
   ]
  },
  {
   "cell_type": "code",
   "execution_count": null,
   "id": "fc0f5e2d-7733-4869-921b-28fc555e5093",
   "metadata": {},
   "outputs": [],
   "source": []
  }
 ],
 "metadata": {
  "kernelspec": {
   "display_name": "Python 3 (ipykernel)",
   "language": "python",
   "name": "python3"
  },
  "language_info": {
   "codemirror_mode": {
    "name": "ipython",
    "version": 3
   },
   "file_extension": ".py",
   "mimetype": "text/x-python",
   "name": "python",
   "nbconvert_exporter": "python",
   "pygments_lexer": "ipython3",
   "version": "3.11.6"
  }
 },
 "nbformat": 4,
 "nbformat_minor": 5
}
