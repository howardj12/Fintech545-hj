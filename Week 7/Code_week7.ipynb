{
 "cells": [
  {
   "cell_type": "markdown",
   "id": "3caa9a6d-3e76-4df8-892f-df7d004c1cbd",
   "metadata": {},
   "source": [
    "## Problem 1"
   ]
  },
  {
   "cell_type": "code",
   "execution_count": 2,
   "id": "408602fd-7141-4e2c-b6b1-05cc9b79eaec",
   "metadata": {
    "tags": []
   },
   "outputs": [],
   "source": [
    "import numpy as np\n",
    "import pandas as pd\n",
    "from datetime import datetime, timedelta\n",
    "from scipy.stats import norm\n",
    "import inspect"
   ]
  },
  {
   "cell_type": "code",
   "execution_count": 3,
   "id": "d428b9a9-97fb-41da-a14e-0d6870b66e2d",
   "metadata": {
    "tags": []
   },
   "outputs": [],
   "source": [
    "# Given information\n",
    "S0 = 151.03\n",
    "X = 165\n",
    "r = 0.0425\n",
    "coupon = 0.0053\n",
    "b = r - coupon\n",
    "ivol = 0.2\n",
    "current_date = datetime(2022,3,13)\n",
    "exp_date = datetime(2022,4,15)"
   ]
  },
  {
   "cell_type": "code",
   "execution_count": 10,
   "id": "e294bead-5d7d-49ee-a09f-56eb9c793375",
   "metadata": {
    "tags": []
   },
   "outputs": [
    {
     "name": "stdout",
     "output_type": "stream",
     "text": [
      "Closed form greeks for GBSM:\n",
      "Call's Delta is  0.08297130333914773\n",
      "Put's Delta is  -0.9165496333661425\n",
      "Call's Gamma is  0.016822916101852648\n",
      "Put's Gamma is  0.016822916101852648\n",
      "Call's Vega is  6.938710929513443\n",
      "Put's Vega is  6.938710929513443\n",
      "Call's Theta is  -8.126522359668838\n",
      "Put's Theta is  -1.9409914783019557\n",
      "Call's Rho is  1.102593915636819\n",
      "Put's Rho is  -13.75800312273579\n",
      "Call's Carry Rho is  1.132953825011723\n",
      "Put's Carry Rho is  -12.515271800549371\n"
     ]
    }
   ],
   "source": [
    "# Function to calculate time to maturity using calendar days\n",
    "def calculate_ttm(curr_date, expire_date):\n",
    "    days_to_expiration = (expire_date - curr_date).days\n",
    "    return days_to_expiration / 365\n",
    "\n",
    "# Function to calculate d1 and d2\n",
    "def calculate_d1_d2(S0, X, b, T, ivol):\n",
    "    d1 = (np.log(S0 / X) + (b + ivol**2 / 2) * T) / (ivol * np.sqrt(T))\n",
    "    d2 = d1 - ivol * np.sqrt(T)\n",
    "    return d1, d2\n",
    "\n",
    "T = calculate_ttm(current_date, exp_date)\n",
    "\n",
    "# Closed form greeks functions for GBSM\n",
    "def delta_gbsm(option_type, S0, X, T, ivol, b, r):\n",
    "    d1, d2 = calculate_d1_d2(S0, X, b, T, ivol)\n",
    "    if option_type == \"Call\":\n",
    "        delta = np.exp((b-r)*T) * norm.cdf(d1)\n",
    "    else:\n",
    "        delta = np.exp((b-r)*T) * (norm.cdf(d1)-1)\n",
    "    return delta\n",
    "\n",
    "def gamma_gbsm(S0, X, T, ivol, b, r):\n",
    "    d1, d2 = calculate_d1_d2(S0, X, b, T, ivol)\n",
    "    gamma = (norm.pdf(d1)*np.exp((b-r)*T)) / (S0 * ivol *np.sqrt(T))\n",
    "    return gamma\n",
    "\n",
    "def vega_gbsm(S0, X, T, ivol, b, r):\n",
    "    d1, d2 = calculate_d1_d2(S0, X, b, T, ivol)\n",
    "    vega = S0 * np.exp((b-r)*T) * norm.pdf(d1) * np.sqrt(T)\n",
    "    return vega\n",
    "\n",
    "def theta_gbsm(option_type, S0, X, T, ivol, b, r):\n",
    "    d1, d2 = calculate_d1_d2(S0, X, b, T, ivol)\n",
    "    if option_type == \"Call\":\n",
    "        theta = -(S0*np.exp((b-r)*T)*norm.pdf(d1)*ivol)/(2*np.sqrt(T))\\\n",
    "                -(b-r)*S0*np.exp((b-r)*T)*norm.cdf(d1)\\\n",
    "                -r*X*np.exp(-r*T)*norm.cdf(d2)\n",
    "    else:\n",
    "        theta = -(S0*np.exp((b-r)*T)*norm.pdf(d1)*ivol)/(2*np.sqrt(T))\\\n",
    "                +(b-r)*S0*np.exp((b-r)*T)*norm.cdf(-d1)\\\n",
    "                +r*X*np.exp(-r*T)*norm.cdf(-d2)\n",
    "    return theta\n",
    "\n",
    "def rho_gbsm(option_type, S0, X, T, ivol, b, r):\n",
    "    d1, d2 = calculate_d1_d2(S0, X, b, T, ivol)\n",
    "    if option_type == \"Call\":\n",
    "        rho = T*X*np.exp(-r*T)*norm.cdf(d2)\n",
    "    else:\n",
    "        rho = -T*X*np.exp(-r*T)*norm.cdf(-d2)\n",
    "    return rho\n",
    "\n",
    "def carry_rho_gbsm(option_type, S0, X, T, ivol, b, r):\n",
    "    d1, d2 = calculate_d1_d2(S0, X, b, T, ivol)\n",
    "    if option_type == \"Call\":\n",
    "        carry_rho = T*S0*np.exp((b-r)*T)*norm.cdf(d1)\n",
    "    else:\n",
    "        carry_rho = -T*S0*np.exp((b-r)*T)*norm.cdf(-d1)\n",
    "    return carry_rho\n",
    "\n",
    "# Results\n",
    "print(\"Closed form greeks for GBSM:\")\n",
    "print(\"Call's Delta is \", delta_gbsm('Call', S0, X, T, ivol, b, r))\n",
    "print(\"Put's Delta is \", delta_gbsm('Put', S0, X, T, ivol, b, r))\n",
    "\n",
    "print(\"Call's Gamma is \", gamma_gbsm(S0, X, T, ivol, b, r))\n",
    "print(\"Put's Gamma is \", gamma_gbsm(S0, X, T, ivol, b, r))\n",
    "\n",
    "print(\"Call's Vega is \", vega_gbsm(S0, X, T, ivol, b, r))\n",
    "print(\"Put's Vega is \", vega_gbsm(S0, X, T, ivol, b, r))\n",
    "\n",
    "print(\"Call's Theta is \", theta_gbsm(\"Call\", S0, X, T, ivol, b, r))\n",
    "print(\"Put's Theta is \", theta_gbsm(\"Put\", S0, X, T, ivol, b, r))       \n",
    "\n",
    "print(\"Call's Rho is \", rho_gbsm(\"Call\", S0, X, T, ivol, b, r))\n",
    "print(\"Put's Rho is \", rho_gbsm(\"Put\", S0, X, T, ivol, b, r)) \n",
    "\n",
    "print(\"Call's Carry Rho is \", carry_rho_gbsm( \"Call\", S0, X, T, ivol, b, r))\n",
    "print(\"Put's Carry Rho is \", carry_rho_gbsm( \"Put\", S0, X, T, ivol, b, r)) "
   ]
  },
  {
   "cell_type": "code",
   "execution_count": 11,
   "id": "58bb65ab-d74e-4d9a-9f78-038141c3c8d1",
   "metadata": {
    "tags": []
   },
   "outputs": [
    {
     "name": "stdout",
     "output_type": "stream",
     "text": [
      "Finite difference greeks:\n",
      "Call's Delta is  0.08297130374668171\n",
      "Put's Delta is  -0.9165496329472944\n",
      "Call's Gamma is  0.016822911064195978\n",
      "Put's Gamma is  0.016822951920403284\n",
      "Call's Vega is  6.938653056250743\n",
      "Put's Vega is  6.93865305626673\n",
      "Call's Theta is  -8.126308803761084\n",
      "Put's Theta is  -1.9407779203106656\n",
      "Call's Rho is  -0.030359909417576603\n",
      "Put's Rho is  -1.2427313238703164\n",
      "Call's Carry Rho is  1.1329550097096686\n",
      "Put's Carry Rho is  -12.515270634423814\n"
     ]
    }
   ],
   "source": [
    "def gbsm(option_type, S0, X, T, ivol, r, b):\n",
    "    d1, d2 = calculate_d1_d2(S0, X, b, T, ivol)\n",
    "    if option_type == \"Call\":\n",
    "        call_value = S0 * np.exp((b-r)*T)*norm.cdf(d1) - X * np.exp(-r*T)*norm.cdf(d2)\n",
    "        return call_value\n",
    "    else:\n",
    "        put_value = X * np.exp(-r*T)*norm.cdf(-d2) - S0 * np.exp((b-r)*T)*norm.cdf(-d1)\n",
    "        return put_value\n",
    "\n",
    "# Implement a finite diference derivative calculation\n",
    "def first_order_derivative(function, x, delta):\n",
    "    result = (function(x+delta) - function(x-delta)) / (2*delta)\n",
    "    return result\n",
    "\n",
    "def second_order_devirvative(function, x, delta):\n",
    "    result = (function(x+delta) + function(x-delta) - 2*function(x)) / (delta**2)\n",
    "    return result\n",
    "\n",
    "def cal_derivative_wrt_one(function, order, object_arg, delta = 1e-3):\n",
    "    all_args = list(inspect.signature(function).parameters.keys())\n",
    "    orders_dic = {1:first_order_derivative, 2:second_order_devirvative}\n",
    "\n",
    "    def cal_derivative(*args, **kwargs):\n",
    "        args_dic = dict(list(zip(all_args, args)) + list(kwargs.items()))\n",
    "        value_arg = args_dic.pop(object_arg)\n",
    "\n",
    "        def trans_into_one_arg(x):\n",
    "            all_args = {object_arg:x, **args_dic}\n",
    "            return function(**all_args)\n",
    "        return orders_dic[order](trans_into_one_arg, value_arg, delta)\n",
    "    return cal_derivative\n",
    "\n",
    "# Results\n",
    "print(\"Finite difference greeks:\")\n",
    "gbsm_delta = cal_derivative_wrt_one(gbsm, 1, 'S0')\n",
    "print(\"Call's Delta is \", gbsm_delta(\"Call\", S0, X, T, ivol, r, b))\n",
    "print(\"Put's Delta is \", gbsm_delta(\"Put\", S0, X, T, ivol, r, b)) \n",
    "gbsm_gamma = cal_derivative_wrt_one(gbsm, 2 ,'S0')\n",
    "print(\"Call's Gamma is \", gbsm_gamma(\"Call\", S0, X, T, ivol, r, b))\n",
    "print(\"Put's Gamma is \", gbsm_gamma(\"Put\", S0, X, T, ivol, r, b)) \n",
    "gbsm_vega = cal_derivative_wrt_one(gbsm, 1 ,'ivol')\n",
    "print(\"Call's Vega is \", gbsm_vega(\"Call\", S0, X, T, ivol, r, b))\n",
    "print(\"Put's Vega is \", gbsm_vega(\"Put\", S0, X, T, ivol, r, b)) \n",
    "gbsm_theta = cal_derivative_wrt_one(gbsm, 1 ,'T')\n",
    "print(\"Call's Theta is \", -gbsm_theta(\"Call\", S0, X, T, ivol, r, b))\n",
    "print(\"Put's Theta is \", -gbsm_theta(\"Put\", S0, X, T, ivol, r, b))\n",
    "gbsm_rho = cal_derivative_wrt_one(gbsm, 1 ,'r')\n",
    "print(\"Call's Rho is \", gbsm_rho(\"Call\", S0, X, T, ivol, r, b))\n",
    "print(\"Put's Rho is \", gbsm_rho(\"Put\", S0, X, T, ivol, r, b))\n",
    "gbsm_carry_rho = cal_derivative_wrt_one(gbsm, 1 ,'b')\n",
    "print(\"Call's Carry Rho is \", gbsm_carry_rho( \"Call\", S0, X, T, ivol, r, b))\n",
    "print(\"Put's Carry Rho is \", gbsm_carry_rho( \"Put\", S0, X, T, ivol, r, b))"
   ]
  }
 ],
 "metadata": {
  "kernelspec": {
   "display_name": "Python 3 (ipykernel)",
   "language": "python",
   "name": "python3"
  },
  "language_info": {
   "codemirror_mode": {
    "name": "ipython",
    "version": 3
   },
   "file_extension": ".py",
   "mimetype": "text/x-python",
   "name": "python",
   "nbconvert_exporter": "python",
   "pygments_lexer": "ipython3",
   "version": "3.11.6"
  }
 },
 "nbformat": 4,
 "nbformat_minor": 5
}
