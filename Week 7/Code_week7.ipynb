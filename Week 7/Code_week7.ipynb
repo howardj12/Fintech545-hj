{
 "cells": [
  {
   "cell_type": "markdown",
   "id": "3caa9a6d-3e76-4df8-892f-df7d004c1cbd",
   "metadata": {},
   "source": [
    "## Problem 1"
   ]
  },
  {
   "cell_type": "code",
   "execution_count": 1,
   "id": "408602fd-7141-4e2c-b6b1-05cc9b79eaec",
   "metadata": {
    "tags": []
   },
   "outputs": [],
   "source": [
    "import numpy as np\n",
    "import pandas as pd\n",
    "from datetime import datetime, timedelta\n",
    "from scipy.stats import norm"
   ]
  },
  {
   "cell_type": "code",
   "execution_count": null,
   "id": "d428b9a9-97fb-41da-a14e-0d6870b66e2d",
   "metadata": {},
   "outputs": [],
   "source": [
    "# Given information\n",
    "S0 = 151.03\n",
    "X = 165\n",
    "r = 0.0425\n",
    "coupon = 0.0053\n",
    "b = r - coupon\n",
    "ivol = 0.2\n",
    "current_date = datetime(2022,3,13)\n",
    "exp_date = datetime(2022,4,15)"
   ]
  },
  {
   "cell_type": "code",
   "execution_count": null,
   "id": "e294bead-5d7d-49ee-a09f-56eb9c793375",
   "metadata": {},
   "outputs": [],
   "source": [
    "# Function to calculate time to maturity using calendar days\n",
    "def calculate_ttm(curr_date, expire_date):\n",
    "    days_to_expiration = (expire_date - curr_date).days\n",
    "    return days_to_expiration / 365\n",
    "\n",
    "# Function to calculate d1 and d2\n",
    "def calculate_d1_d2(S0, X, b, T, ivol):\n",
    "    d1 = (np.log(S0 / X) + (b + ivol**2 / 2) * T) / (ivol * np.sqrt(T))\n",
    "    d2 = d1 - ivol * np.sqrt(T)\n",
    "    return d1, d2\n",
    "\n",
    "T = calculate_ttm(current_date, exp_date)\n",
    "\n",
    "# Closed form greeks functions for GBSM\n",
    "def delta_gbsm(option_type, S0, X, T, ivol, b, r):\n",
    "    d1, d2 = calculate_d1_d2(S0, X, b, T, ivol)\n",
    "    if option_type == \"Call\":\n",
    "        delta = np.exp((b-r)*T) * norm.cdf(d1)\n",
    "    else:\n",
    "        delta = np.exp((b-r)*T) * (norm.cdf(d1)-1)\n",
    "    return delta\n",
    "\n",
    "def gamma_gbsm(S0, X, T, ivol, b, r):\n",
    "    d1, d2 = calculate_d1_d2(S0, X, b, T, ivol)\n",
    "    gamma = (norm.pdf(d1)*np.exp((b-r)*T)) / (S0 * ivol *np.sqrt(T))\n",
    "    return gamma\n",
    "\n",
    "def vega_gbsm(S0, X, T, ivol, b, r):\n",
    "    d1, d2 = calculate_d1_d2(S0, X, b, T, ivol)\n",
    "    vega = S0 * np.exp((b-r)*T) * norm.pdf(d1) * np.sqrt(T)\n",
    "    return vega\n",
    "\n",
    "def theta_gbsm(option_type, S0, X, T, ivol, b, r):\n",
    "    d1, d2 = calculate_d1_d2(S0, X, b, T, ivol)\n",
    "    if option_type == \"Call\":\n",
    "        theta = -(S0*np.exp((b-r)*T)*norm.pdf(d1)*ivol)/(2*np.sqrt(T))\\\n",
    "                -(b-r)*S0*np.exp((b-r)*T)*norm.cdf(d1)\\\n",
    "                -r*X*np.exp(-r*T)*norm.cdf(d2)\n",
    "    else:\n",
    "        theta = -(S0*np.exp((b-r)*T)*norm.pdf(d1)*ivol)/(2*np.sqrt(T))\\\n",
    "                +(b-r)*S0*np.exp((b-r)*T)*norm.cdf(-d1)\\\n",
    "                +r*X*np.exp(-r*T)*norm.cdf(-d2)\n",
    "    return theta\n",
    "\n",
    "def rho_gbsm(option_type, S0, X, T, ivol, b, r):\n",
    "    d1, d2 = calculate_d1_d2(S0, X, b, T, ivol)\n",
    "    if option_type == \"Call\":\n",
    "        rho = T*X*np.exp(-r*T)*norm.cdf(d2)\n",
    "    else:\n",
    "        rho = -T*X*np.exp(-r*T)*norm.cdf(-d2)\n",
    "    return rho\n",
    "\n",
    "def carry_rho_gbsm(option_type, S0, X, T, ivol, b, r):\n",
    "    d1, d2 = calculate_d1_d2(S0, X, b, T, ivol)\n",
    "    if option_type == \"Call\":\n",
    "        carry_rho = T*S0*np.exp((b-r)*T)*norm.cdf(d1)\n",
    "    else:\n",
    "        carry_rho = -T*S0*np.exp((b-r)*T)*norm.cdf(-d1)\n",
    "    return carry_rho\n",
    "\n",
    "def gbsm(option_type, S0, X, T, ivol, r, b):\n",
    "    d1, d2 = calculate_d1_d2(S0, X, b, T, ivol)\n",
    "    if option_type == \"Call\":\n",
    "        call_value = S0 * np.exp((b-r)*T)*norm.cdf(d1) - X * np.exp(-r*T)*norm.cdf(d2)\n",
    "        return call_value\n",
    "    else:\n",
    "        put_value = X * np.exp(-r*T)*norm.cdf(-d2) - S0 * np.exp((b-r)*T)*norm.cdf(-d1)\n",
    "        return put_value"
   ]
  }
 ],
 "metadata": {
  "kernelspec": {
   "display_name": "Python 3 (ipykernel)",
   "language": "python",
   "name": "python3"
  },
  "language_info": {
   "codemirror_mode": {
    "name": "ipython",
    "version": 3
   },
   "file_extension": ".py",
   "mimetype": "text/x-python",
   "name": "python",
   "nbconvert_exporter": "python",
   "pygments_lexer": "ipython3",
   "version": "3.11.6"
  }
 },
 "nbformat": 4,
 "nbformat_minor": 5
}
